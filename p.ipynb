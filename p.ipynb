{
 "cells": [
  {
   "cell_type": "code",
   "execution_count": 7,
   "metadata": {},
   "outputs": [
    {
     "name": "stdout",
     "output_type": "stream",
     "text": [
      "['', 'C', '', '', 'C', '', 'AC', 'AC', 'C']\n",
      "8\n"
     ]
    }
   ],
   "source": [
    "s=\"ABCABABABCABABACABACABC\"\n",
    "P=\"AB\"\n",
    "list=[]\n",
    "# for i in range(len(s)):\n",
    "#     # if s[i:]*len(s)==P:\n",
    "#     if s.startswith(P):\n",
    "#        list.append(i)\n",
    "    \n",
    "#     s=s[1:]\n",
    "print(s.split(P))\n",
    "l=s.split(P)\n",
    "\n",
    "print(len(l)-1)"
   ]
  }
 ],
 "metadata": {
  "kernelspec": {
   "display_name": "Python 3",
   "language": "python",
   "name": "python3"
  },
  "language_info": {
   "codemirror_mode": {
    "name": "ipython",
    "version": 3
   },
   "file_extension": ".py",
   "mimetype": "text/x-python",
   "name": "python",
   "nbconvert_exporter": "python",
   "pygments_lexer": "ipython3",
   "version": "3.11.9"
  }
 },
 "nbformat": 4,
 "nbformat_minor": 2
}
