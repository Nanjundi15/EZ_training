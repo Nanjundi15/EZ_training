{
 "cells": [
  {
   "cell_type": "code",
   "execution_count": 4,
   "metadata": {},
   "outputs": [
    {
     "name": "stdout",
     "output_type": "stream",
     "text": [
      "nanjundi 20 M\n"
     ]
    }
   ],
   "source": [
    "class student:\n",
    "    def __init__(self,name,age,gn):\n",
    "        self.name=name\n",
    "        self.age=age\n",
    "        self.gn=gn\n",
    "str1=student(\"nanjundi\",20,\"M\")\n",
    "\n",
    "print(str1.name,str1.age,str1.gn)"
   ]
  },
  {
   "cell_type": "code",
   "execution_count": 2,
   "metadata": {},
   "outputs": [
    {
     "name": "stdout",
     "output_type": "stream",
     "text": [
      "preethi 20 f\n"
     ]
    }
   ],
   "source": [
    "class STD:\n",
    "    def __init__(self):\n",
    "        self.name=None\n",
    "        self.age=None\n",
    "        self.gender=None\n",
    "st2=STD()\n",
    "\n",
    "st2.name=input(\"enter the name=\")\n",
    "st2.age=int(input(\"enter the age=\"))\n",
    "st2.gender=input(\"enter the gender=\")\n",
    "\n",
    "print(st2.name,st2.age,st2.gender)"
   ]
  },
  {
   "cell_type": "code",
   "execution_count": 4,
   "metadata": {},
   "outputs": [
    {
     "name": "stdout",
     "output_type": "stream",
     "text": [
      "Nk 20 F\n"
     ]
    }
   ],
   "source": [
    "class student:\n",
    "    def __init__(self,name,age,gn):\n",
    "        self.name=name\n",
    "        self.age=age\n",
    "        self.gn=gn\n",
    "        \n",
    "a=input(\"enter the name=\")\n",
    "b=int(input(\"enter the age=\"))\n",
    "c=input(\"enter the gender=\")\n",
    "\n",
    "st3=student(a,b,c)\n",
    "print(st3.name,st3.age,st3.gn)\n",
    "\n"
   ]
  },
  {
   "cell_type": "code",
   "execution_count": 6,
   "metadata": {},
   "outputs": [
    {
     "name": "stdout",
     "output_type": "stream",
     "text": [
      "chetan 20 M\n",
      "chetan 21 M\n"
     ]
    }
   ],
   "source": [
    "class student:\n",
    "    def __init__(self,name,age,gn):\n",
    "        self.name=name\n",
    "        self.age=age\n",
    "        self.gn=gn\n",
    "        \n",
    "a=input(\"enter the name=\")\n",
    "b=int(input(\"enter the age=\"))\n",
    "c=input(\"enter the gender=\")\n",
    "\n",
    "st3=student(a,b,c)\n",
    "print(st3.name,st3.age,st3.gn)\n",
    "st3.age=21\n",
    "print(st3.name,st3.age,st3.gn)\n"
   ]
  },
  {
   "cell_type": "code",
   "execution_count": 13,
   "metadata": {},
   "outputs": [
    {
     "name": "stdout",
     "output_type": "stream",
     "text": [
      "B-01 == Bat == Good == Av\n",
      "V-01 vollyball better Av\n",
      "B-02 Bassketball Good u\n",
      "j-01 Javaline Good Av\n"
     ]
    }
   ],
   "source": [
    "class sports:\n",
    "    def __init__(self,IDno,name,qn,sta):\n",
    "        self.IDno=IDno\n",
    "        self.name=name\n",
    "        self.quality=qn\n",
    "        self.status=sta\n",
    "str1=sports(\"B-01 ==\",\"Bat ==\",\"Good ==\",\"Av\")       \n",
    "str2=sports(\"V-01\",\"vollyball\",\"better\",\"Av\") \n",
    "str3=sports(\"B-02\",\"Bassketball\",\"Good\",\"u\") \n",
    "str4=sports(\"j-01\",\"Javaline\",\"Good\",\"Av\") \n",
    "\n",
    "print(str1.IDno,str1.name,str1.quality,str1.status)\n",
    "print(str2.IDno,str2.name,str2.quality,str2.status)\n",
    "print(str3.IDno,str3.name,str3.quality,str3.status)\n",
    "print(str4.IDno,str4.name,str4.quality,str4.status)"
   ]
  },
  {
   "cell_type": "code",
   "execution_count": 15,
   "metadata": {},
   "outputs": [
    {
     "name": "stdout",
     "output_type": "stream",
     "text": [
      "<class 'list'>\n",
      "<class 'int'>\n",
      "<class 'tuple'>\n"
     ]
    }
   ],
   "source": [
    "a=[1,\"anc\",23]\n",
    "b=123\n",
    "c=(1,2,3,4)\n",
    "print(type(a))\n",
    "print(type(b))\n",
    "print(type(c))"
   ]
  },
  {
   "cell_type": "code",
   "execution_count": 17,
   "metadata": {},
   "outputs": [
    {
     "name": "stdout",
     "output_type": "stream",
     "text": [
      "this is class function 1\n",
      "this is class function 2\n"
     ]
    }
   ],
   "source": [
    "class A:\n",
    "    def fun1(self):\n",
    "        print(\"this is class function 1\")\n",
    "class B(A):\n",
    "    def fun2(self):\n",
    "        print(\"this is class function 2\")\n",
    "ob1=A()\n",
    "ob2=B()\n",
    "\n",
    "ob2.fun1()\n",
    "ob2.fun2()\n",
    "    "
   ]
  },
  {
   "cell_type": "code",
   "execution_count": 22,
   "metadata": {},
   "outputs": [
    {
     "name": "stdout",
     "output_type": "stream",
     "text": [
      "<class '__main__.A'>\n",
      "2\n",
      "5\n"
     ]
    }
   ],
   "source": [
    "class A:\n",
    "    def __init__(self,a,b):\n",
    "        self.A=a\n",
    "        self.__b=b\n",
    "    def printB(self):\n",
    "        print(self.__b)\n",
    "ob1=A(2,5)\n",
    "print(type(ob1))\n",
    "\n",
    "print(ob1.A)\n",
    "ob1.printB()"
   ]
  },
  {
   "cell_type": "code",
   "execution_count": null,
   "metadata": {},
   "outputs": [],
   "source": [
    "class :"
   ]
  }
 ],
 "metadata": {
  "kernelspec": {
   "display_name": "Python 3",
   "language": "python",
   "name": "python3"
  },
  "language_info": {
   "codemirror_mode": {
    "name": "ipython",
    "version": 3
   },
   "file_extension": ".py",
   "mimetype": "text/x-python",
   "name": "python",
   "nbconvert_exporter": "python",
   "pygments_lexer": "ipython3",
   "version": "3.11.9"
  }
 },
 "nbformat": 4,
 "nbformat_minor": 2
}
