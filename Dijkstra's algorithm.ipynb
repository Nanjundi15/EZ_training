{
 "cells": [
  {
   "cell_type": "markdown",
   "metadata": {},
   "source": [
    "Dijkstra's algorithm"
   ]
  },
  {
   "cell_type": "markdown",
   "metadata": {},
   "source": [
    "very important"
   ]
  },
  {
   "cell_type": "code",
   "execution_count": 19,
   "metadata": {},
   "outputs": [
    {
     "name": "stdout",
     "output_type": "stream",
     "text": [
      "[0, 7, 10, 8, 8, 12, 11, 2, 16, 13]\n"
     ]
    }
   ],
   "source": [
    "G=[\n",
    "    [0,  7, False, False, False, False,False, 2, False, False],\n",
    "    [7,  0,  4,  1, False,  5, False,False, False, False],\n",
    "    [False, 4,  0, False, False, False, False, 8, False, False],\n",
    "    [False, 1, False,  0,  6,  8,  3, False, False, False],\n",
    "    [False, False,False,  6,  0, False, False, 6,  8, False],\n",
    "    [False, 5, False,  8, False,  0, False, False, False,False],\n",
    "    [False,False, False,  3, False, False,  0, False,  9, 2],\n",
    "    [2, False,  8,  False,  6, False, False,  0, False,False],\n",
    "    [False,False, False, False,  8, False,  9, False,  0,False],\n",
    "    [False,  False, False, False, False, False,  2, False, False, 0]\n",
    "]\n",
    "temp={}\n",
    "for i in range(len(G)):\n",
    "    temp[i]=float(\"inf\")\n",
    "dist=[float(\"inf\")]*len(G)\n",
    "temp[0]=0\n",
    "while len(temp)>0:\n",
    "    min_value=min(temp.values())\n",
    "    min_key=min(temp,key=temp.get)\n",
    "    temp.pop(min_key)\n",
    "    dist[min_key]=min_value\n",
    "    \n",
    "    for j in range (len(G[min_key])):\n",
    "        if G[min_key][j]!=False and G[min_key][j]!=0:\n",
    "            new_dist=min_value+G[min_key][j]\n",
    "            if j in temp.keys() and temp[j]>new_dist:\n",
    "               temp[j]=new_dist\n",
    "print(dist)\n",
    "        "
   ]
  },
  {
   "cell_type": "markdown",
   "metadata": {},
   "source": [
    "2nd example"
   ]
  },
  {
   "cell_type": "code",
   "execution_count": 14,
   "metadata": {},
   "outputs": [
    {
     "name": "stdout",
     "output_type": "stream",
     "text": [
      "[0, 4, 9, 7, 7, 9, 12, 2, 13, 8]\n"
     ]
    }
   ],
   "source": [
    "G=[\n",
    "    [0,  4, False, 7, False, False,False, 2, False, False],\n",
    "    [4,  0,  5,  False, 3,  False, False,False, False, False],\n",
    "    [False, 5,  0, 9, False, False, False, False, False, False],\n",
    "    [7, False, 9,  0,  False,  False,  False, False, 6, False],\n",
    "    [False, 3,False,  False,  0, 2, False, False,  7, False],\n",
    "    [False, False, False,  False, 2,  0, False, False, False,8],\n",
    "    [False,False, False,  1, False, False,  0, False,  False, 4],\n",
    "    [2, False,  False,  False,  False, False, False,  0, False,6],\n",
    "    [False,False, False, 6,  7, False,  False, False,  0,False],\n",
    "    [False,  False, False, False, False, 8,  4, 6, False, 0]\n",
    "]\n",
    "temp={}\n",
    "for i in range(len(G)):\n",
    "    temp[i]=float(\"inf\")\n",
    "dist=[float(\"inf\")]*len(G)\n",
    "temp[0]=0\n",
    "\n",
    "while len(temp)>0:\n",
    "    min_value=min(temp.values())\n",
    "    min_key=min(temp,key=temp.get)\n",
    "    temp.pop(min_key)\n",
    "    dist[min_key]=min_value\n",
    "    for j in range(len(G[min_key])):\n",
    "        if G[min_key][j]!=False and G[min_key][j]!=0:\n",
    "            new_dist=min_value+G[min_key][j]\n",
    "            if j in temp.keys() and temp[j]>new_dist:\n",
    "                temp[j]=new_dist\n",
    "print(dist)"
   ]
  }
 ],
 "metadata": {
  "kernelspec": {
   "display_name": "Python 3",
   "language": "python",
   "name": "python3"
  },
  "language_info": {
   "codemirror_mode": {
    "name": "ipython",
    "version": 3
   },
   "file_extension": ".py",
   "mimetype": "text/x-python",
   "name": "python",
   "nbconvert_exporter": "python",
   "pygments_lexer": "ipython3",
   "version": "3.11.9"
  }
 },
 "nbformat": 4,
 "nbformat_minor": 2
}
