{
 "cells": [
  {
   "cell_type": "markdown",
   "metadata": {},
   "source": [
    "sortest Distance form sinkle source"
   ]
  },
  {
   "cell_type": "code",
   "execution_count": 9,
   "metadata": {},
   "outputs": [
    {
     "name": "stdout",
     "output_type": "stream",
     "text": [
      "{'A': inf, 'B': inf, 'C': inf, 'D': inf, 'E': inf, 'F': inf}\n",
      "[('A', 'B'), ('A', 'C'), ('A', 'D'), ('B', 'E'), ('C', 'B'), ('C', 'E'), ('D', 'C'), ('D', 'F'), ('E', 'F')]\n"
     ]
    }
   ],
   "source": [
    "g={\n",
    "    'A':[('A','B',6),('A','C',4),('A','D',5)],\n",
    "    'B':[('B','E',-1)],\n",
    "    'C':[('C','B',-1),('C','E',3)],\n",
    "    'D':[('D','C',-2),('D','F',3)],\n",
    "    'E':[('E','F',3)],\n",
    "    'F':[]\n",
    "}\n",
    "costs={i: float('inf') for i in g.keys() }\n",
    "print(costs)\n",
    "lst=[]\n",
    "for i in g.values():\n",
    "    for j in i:\n",
    "        lst.append((j[0],j[1]))\n",
    "print(lst)\n"
   ]
  },
  {
   "cell_type": "code",
   "execution_count": 10,
   "metadata": {},
   "outputs": [
    {
     "name": "stdout",
     "output_type": "stream",
     "text": [
      "[(0, 1), (0, 2), (0, 3), (1, 4), (2, 1), (2, 4), (3, 2), (3, 5), (4, 5)]\n",
      "{0: 0, 1: inf, 2: inf, 3: inf, 4: inf, 5: inf}\n",
      "{0: 0, 1: 1, 2: 3, 3: 5, 4: 0, 5: 3}\n"
     ]
    }
   ],
   "source": [
    "G=[\n",
    "    [0,6,4,5,False,False],\n",
    "    [False,0,False,False,-1,False],\n",
    "    [False,-2,0,False,3,False],\n",
    "    [False,False,-2,0,False,-1],\n",
    "    [False,False,False,False,0,3],\n",
    "    [False,False,False,False,False,0]\n",
    "]\n",
    "\n",
    "d={0:\"A\",1:\"B\",2:\"C\",3:\"D\",4:\"E\",5:\"F\"}\n",
    "E_L=[]\n",
    "for i in range(len(G)):\n",
    "    for j in range(len(G[i])):\n",
    "        if G[i][j]!=False and G[i][j]!=0:\n",
    "            E_L.append(tuple((i,j)))\n",
    "print(E_L)\n",
    "\n",
    "dist={i:float('inf') for i in d}\n",
    "dist[0]=0\n",
    "print(dist)\n",
    "\n",
    "# for i in range(len(G)-1):\n",
    "for i in G:\n",
    "    for j in E_L:\n",
    "        new_dist=dist[j[0]]+G[j[0]][j[1]]\n",
    "        if dist[j[1]]>new_dist:\n",
    "            dist[j[1]]=new_dist\n",
    "print(dist)"
   ]
  }
 ],
 "metadata": {
  "kernelspec": {
   "display_name": "Python 3",
   "language": "python",
   "name": "python3"
  },
  "language_info": {
   "codemirror_mode": {
    "name": "ipython",
    "version": 3
   },
   "file_extension": ".py",
   "mimetype": "text/x-python",
   "name": "python",
   "nbconvert_exporter": "python",
   "pygments_lexer": "ipython3",
   "version": "3.11.9"
  }
 },
 "nbformat": 4,
 "nbformat_minor": 2
}
