{
 "cells": [
  {
   "cell_type": "markdown",
   "metadata": {},
   "source": [
    "GRAPH DFS\n"
   ]
  },
  {
   "cell_type": "code",
   "execution_count": 5,
   "metadata": {},
   "outputs": [
    {
     "name": "stdout",
     "output_type": "stream",
     "text": [
      "5 3 6 8 4 7 2 1 "
     ]
    }
   ],
   "source": [
    "def DFS(graph):\n",
    "    v={}\n",
    "    for i in graph.keys():\n",
    "        v[i]=False\n",
    "    s=[]\n",
    "    DFShelper(graph,v,s,1)\n",
    "def DFShelper(graph,v,s,e):\n",
    "    if v[e]==False:\n",
    "        s.append(e)\n",
    "        v[e]=True\n",
    "    else:\n",
    "        return\n",
    "    for i in graph[e]:\n",
    "        DFShelper(graph,v,s,i[1])\n",
    "    print(s.pop(),end=\" \")\n",
    "\n",
    "\n",
    "graph={\n",
    "    1:[(1,2,0),(1,3,0)],\n",
    "    2:[(2,1,0),(2,7,0)],\n",
    "    3:[(3,1,0),(3,5,0),(3,6,0)],\n",
    "    4:[(4,7,0),(4,8,0)],\n",
    "    5:[(5,3,0),(5,7,0)],\n",
    "    6:[(6,3,0),(6,8,0)],\n",
    "    7:[(7,2,0),(7,4,0),(7,5,0)],\n",
    "    8:[(8,4,0),(8,6,0)]\n",
    "}        \n",
    "DFS(graph)"
   ]
  },
  {
   "cell_type": "markdown",
   "metadata": {},
   "source": [
    "DFS GRAPH 2"
   ]
  },
  {
   "cell_type": "code",
   "execution_count": 2,
   "metadata": {},
   "outputs": [
    {
     "name": "stdout",
     "output_type": "stream",
     "text": [
      "4 3 6 8 13 12 9 7 11 10 5 2 1 "
     ]
    }
   ],
   "source": [
    "def DFS(graph):\n",
    "    v={}\n",
    "    for i in graph.keys():\n",
    "        v[i]=False\n",
    "    s=[]\n",
    "    DFShelper(graph,v,s,1)\n",
    "def DFShelper(graph,v,s,e):\n",
    "    if v[e]==False:\n",
    "        s.append(e)\n",
    "        v[e]=True\n",
    "    else:\n",
    "        return\n",
    "    for i in graph[e]:\n",
    "        DFShelper(graph,v,s,i[1])\n",
    "    print(s.pop(),end=\" \")\n",
    "graph={\n",
    "    1:[(1,2,0),(1,3,0)],\n",
    "    2:[(2,1,0),(2,5,0)],\n",
    "    3:[(3,1,0),(3,4,0),(3,6,0)],\n",
    "    4:[(4,3,0)],\n",
    "    5:[(5,2,0),(5,7,0),(5,10,0),(5,13,0)],\n",
    "    6:[(6,3,0),(6,7,0)],\n",
    "    7:[(7,5,0),(7,6,0),(7,8,0),(7,9,0)],\n",
    "    8:[(8,7,0)],\n",
    "    9:[(9,7,0),(9,12,0)],\n",
    "    10:[(10,5,0),(10,11,0)], \n",
    "    11:[(11,10,0)],\n",
    "    12:[(12,9,0),(12,13,0)],\n",
    "    13:[(13,5,0),(13,12,0)]\n",
    "}\n",
    "DFS(graph)"
   ]
  },
  {
   "cell_type": "markdown",
   "metadata": {},
   "source": [
    "Graph BFS"
   ]
  },
  {
   "cell_type": "code",
   "execution_count": 3,
   "metadata": {},
   "outputs": [
    {
     "name": "stdout",
     "output_type": "stream",
     "text": [
      "1 2 3 7 5 6 4 8 "
     ]
    }
   ],
   "source": [
    "graph={\n",
    "    1:[(1,2,0),(1,3,0)],\n",
    "    2:[(2,1,0),(2,7,0)],\n",
    "    3:[(3,1,0),(3,5,0),(3,6,0)],\n",
    "    4:[(4,7,0),(4,8,0)],\n",
    "    5:[(5,3,0),(5,7,0)],\n",
    "    6:[(6,3,0),(6,8,0)],\n",
    "    7:[(7,2,0),(7,4,0),(7,5,0)],\n",
    "    8:[(8,4,0),(8,6,0)]\n",
    "}   \n",
    "\n",
    "def BFS(graph,e):\n",
    "    Q=[e]\n",
    "    v={}\n",
    "    for i in graph.keys():\n",
    "        v[i]=False\n",
    "    v[e]=True\n",
    "    while len(Q)!=0:\n",
    "        current=Q.pop(0)\n",
    "        print(current,end=\" \")\n",
    "        for i in graph[current]:\n",
    "            if v[i[1]]==False:\n",
    "                Q.append(i[1])\n",
    "                v[i[1]]=True\n",
    "BFS(graph,1)"
   ]
  },
  {
   "cell_type": "markdown",
   "metadata": {},
   "source": [
    "BFS GRAPH 2"
   ]
  },
  {
   "cell_type": "code",
   "execution_count": 1,
   "metadata": {},
   "outputs": [
    {
     "name": "stdout",
     "output_type": "stream",
     "text": [
      "1 2 3 5 4 6 7 10 13 8 9 11 12 "
     ]
    }
   ],
   "source": [
    "graph={\n",
    "    1:[(1,2,0),(1,3,0)],\n",
    "    2:[(2,1,0),(2,5,0)],\n",
    "    3:[(3,1,0),(3,4,0),(3,6,0)],\n",
    "    4:[(4,3,0)],\n",
    "    5:[(5,2,0),(5,7,0),(5,10,0),(5,13,0)],\n",
    "    6:[(6,3,0),(6,7,0)],\n",
    "    7:[(7,5,0),(7,6,0),(7,8,0),(7,9,0)],\n",
    "    8:[(8,7,0)],\n",
    "    9:[(9,7,0),(9,12,0)],\n",
    "    10:[(10,5,0),(10,11,0)],\n",
    "    11:[(11,10,0)],\n",
    "    12:[(12,9,0),(12,13,0)],\n",
    "    13:[(13,5,0),(13,12,0)]\n",
    "}\n",
    "def BFS(graph,e):\n",
    "    Q=[e]\n",
    "    v={}\n",
    "    for i in graph.keys():\n",
    "        v[i]=False\n",
    "    v[e]=True\n",
    "    while len(Q)!=0:\n",
    "        current=Q.pop(0)\n",
    "        print(current,end=\" \")\n",
    "        for i in graph[current]:\n",
    "            if v[i[1]]==False:\n",
    "                Q.append(i[1])\n",
    "                v[i[1]]=True\n",
    "BFS(graph,1)"
   ]
  }
 ],
 "metadata": {
  "kernelspec": {
   "display_name": "Python 3",
   "language": "python",
   "name": "python3"
  },
  "language_info": {
   "codemirror_mode": {
    "name": "ipython",
    "version": 3
   },
   "file_extension": ".py",
   "mimetype": "text/x-python",
   "name": "python",
   "nbconvert_exporter": "python",
   "pygments_lexer": "ipython3",
   "version": "3.11.9"
  }
 },
 "nbformat": 4,
 "nbformat_minor": 2
}
