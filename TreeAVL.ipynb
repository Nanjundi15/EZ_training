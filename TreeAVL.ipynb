{
 "cells": [
  {
   "cell_type": "markdown",
   "metadata": {},
   "source": [
    "TREE AVL "
   ]
  },
  {
   "cell_type": "markdown",
   "metadata": {},
   "source": [
    "inorder,postorder,preorder"
   ]
  },
  {
   "cell_type": "code",
   "execution_count": 1,
   "metadata": {},
   "outputs": [
    {
     "name": "stdout",
     "output_type": "stream",
     "text": [
      "34 21 7 0 17 12 19 27 29 100 75 38 99 134 143 "
     ]
    }
   ],
   "source": [
    "class node:\n",
    "    def __init__(self,data):\n",
    "        self.val=data\n",
    "        self.left=None\n",
    "        self.right=None\n",
    "        self.height=1\n",
    "def insert(root,super):\n",
    "    if root==None:\n",
    "        return node(super)\n",
    "    if super<root.val:\n",
    "        root.left=insert(root.left,super)\n",
    "    else:\n",
    "        root.right=insert(root.right,super)\n",
    "    root.height=1+max(ght(root.left),ght(root.right))        \n",
    "    BF=getBF(root)\n",
    "    #RR rotation\n",
    "    if BF>1 and super<root.left.val:\n",
    "        return rightRotate(root)\n",
    "    #RL rotation\n",
    "    if BF>1 and super>root.left.val:\n",
    "        root.left=leftRotate(root.left)\n",
    "        return rightRotate(root)\n",
    "    #LR Rotation\n",
    "    if BF<-1 and super<root.right.val:\n",
    "        root.right=rightRotate(root.right)\n",
    "        return leftRotate(root)\n",
    "    #LL rotation\n",
    "    if BF<-1 and super>root.right.val:\n",
    "        return (leftRotate(root))\n",
    "    return root\n",
    "def ght(root):\n",
    "    if  root ==None:\n",
    "        return 0\n",
    "    return root.height\n",
    "\n",
    "def getBF(root):\n",
    "    if not root:\n",
    "        return 0\n",
    "    return ght(root.left)-ght(root.right)\n",
    "\n",
    "def leftRotate(A):\n",
    "    B=A.right\n",
    "    temp=B.left\n",
    "    B.left=A\n",
    "    A.right=temp\n",
    "    \n",
    "    A.height=1+max(ght(A.left),ght(A.right)) \n",
    "    B.height=1+max(ght(B.left),ght(B.right)) \n",
    "\n",
    "    return B\n",
    "\n",
    "def rightRotate(A):\n",
    "    B=A.left\n",
    "    temp=B.right\n",
    "    B.right=A\n",
    "    A.left=temp\n",
    "    \n",
    "    A.height=1+max(ght(A.left),ght(A.right)) \n",
    "    B.height=1+max(ght(B.left),ght(B.right)) \n",
    "\n",
    "    return B\n",
    "\n",
    "    \n",
    "    \n",
    "\n",
    "   \n",
    "def inorder(root):\n",
    "    if root == None:\n",
    "        return\n",
    "    inorder(root.left)\n",
    "    print(root.val,end=\" \")\n",
    "    inorder(root.right)   \n",
    "def postorder(root):\n",
    "    if not root:\n",
    "        return\n",
    "    postorder(root.left)\n",
    "    postorder(root.right)\n",
    "    print(root.val,end=\" \")\n",
    "def preorder(root):\n",
    "    if not root:\n",
    "        return\n",
    "    print(root.val,end=\" \") \n",
    "    preorder(root.left)\n",
    "    preorder(root.right)    \n",
    "if __name__==\"__main__\":\n",
    "    root=None\n",
    "    vl=[19,99,75,7,21,34,38,27,134,100,29,0,12,17,143]\n",
    "    for i in vl:\n",
    "        root=insert(root,i)\n",
    "    # inorder(root) \n",
    "    # # postorder(root)\n",
    "    preorder(root)"
   ]
  },
  {
   "cell_type": "markdown",
   "metadata": {},
   "source": [
    "Background:In the digital age ,numbers are often displayeed with thousands separators (commas) for readability. for example ,the numbers 1,000 is easier to read than 1000.\n",
    "But have you ever wondered nhow many comma are used when printing all the nuber from 1 to 100,000?\n",
    "objective: Your task is to calculate the maximum number of commas used when printing the integers from 1 to 100,000 (inclusive).\n",
    "assume that each number is printed with the appropriate thousands separator."
   ]
  },
  {
   "cell_type": "code",
   "execution_count": 1,
   "metadata": {},
   "outputs": [
    {
     "name": "stdout",
     "output_type": "stream",
     "text": [
      "8\n",
      "-2\n"
     ]
    }
   ],
   "source": [
    "list=[4,-1,-3,6,-2,-1,3,2,-8,-2]\n",
    "sum=0\n",
    "maxi=0\n",
    "for i in range(len(list)):\n",
    "    # for j in range(i,len(list)):\n",
    "        sum+=list[i]\n",
    "        if sum>maxi:\n",
    "            maxi=sum\n",
    "print(maxi)\n",
    "print(sum)\n",
    "          \n",
    "        \n",
    "    \n",
    "\n"
   ]
  }
 ],
 "metadata": {
  "kernelspec": {
   "display_name": "Python 3",
   "language": "python",
   "name": "python3"
  },
  "language_info": {
   "codemirror_mode": {
    "name": "ipython",
    "version": 3
   },
   "file_extension": ".py",
   "mimetype": "text/x-python",
   "name": "python",
   "nbconvert_exporter": "python",
   "pygments_lexer": "ipython3",
   "version": "3.11.9"
  }
 },
 "nbformat": 4,
 "nbformat_minor": 2
}
