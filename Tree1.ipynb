{
 "cells": [
  {
   "cell_type": "markdown",
   "metadata": {},
   "source": [
    "TREE on Preorder,Inorder,postOrder"
   ]
  },
  {
   "cell_type": "code",
   "execution_count": 8,
   "metadata": {},
   "outputs": [
    {
     "name": "stdout",
     "output_type": "stream",
     "text": [
      "1\n",
      "2\n",
      "4\n",
      "5\n",
      "3\n",
      "6\n",
      "7\n"
     ]
    }
   ],
   "source": [
    "class node:\n",
    "    def __init__(self,data):\n",
    "        self.data=data\n",
    "        self.left=None\n",
    "        self.right=None\n",
    "def preorder(root):\n",
    "    if root==None:\n",
    "        return\n",
    "    print(root.data)\n",
    "    preorder(root.left)\n",
    "    preorder(root.right)\n",
    "def inorder(root):\n",
    "    if root==None:\n",
    "        return\n",
    "    inorder(root.left)\n",
    "    print(root.data)\n",
    "    inorder(root.right)\n",
    "def postorder(root):\n",
    "    if root==None:\n",
    "        return\n",
    "    postorder(root.left)\n",
    "    postorder(root.right)\n",
    "    print(root.data)\n",
    "    \n",
    "        \n",
    "if __name__==\"__main__\":\n",
    "    \n",
    "    root=node(1)\n",
    "    root.left=node(2)\n",
    "    root.right=node(3)\n",
    "        \n",
    "    root.left.left=node(4)\n",
    "    root.left.right=node(5)\n",
    "        \n",
    "    root.right.left=node(6)\n",
    "    root.right.right=node(7)\n",
    "    preorder(root)\n",
    "    # inorder(root)\n",
    "    # postorder(root)\n",
    "        "
   ]
  },
  {
   "cell_type": "markdown",
   "metadata": {},
   "source": [
    "Tree on level order"
   ]
  },
  {
   "cell_type": "code",
   "execution_count": 34,
   "metadata": {},
   "outputs": [
    {
     "name": "stdout",
     "output_type": "stream",
     "text": [
      "1 \n",
      "2 3 \n",
      "4 5 6 8 \n",
      "9 10 11 \n",
      "12 13 "
     ]
    }
   ],
   "source": [
    "class node:\n",
    "    def __init__(self,data):\n",
    "        self.value=data\n",
    "        self.left=None\n",
    "        self.right=None\n",
    "\n",
    "def levelorder(root):\n",
    "   \n",
    "    Q=[root]\n",
    "    Q.append(None) \n",
    "    \n",
    "    while len(Q)>0:\n",
    "        curr=Q.pop(0)\n",
    "        \n",
    "        if curr ==None:\n",
    "            if len(Q)==0:\n",
    "                break\n",
    "            else:\n",
    "                print()\n",
    "                Q.append(None)\n",
    "        else:\n",
    "            print(curr.value,end=\" \")\n",
    "            if curr.left!=None:\n",
    "                Q.append(curr.left) \n",
    "            if curr.right!=None:\n",
    "                Q.append(curr.right)     \n",
    "        \n",
    "if __name__==\"__main__\":\n",
    "    root=node(1)\n",
    "    \n",
    "    root.left=node(2)\n",
    "    root.right=node(3)\n",
    "    \n",
    "    root.left.left=node(4)\n",
    "    root.left.right=node(5)\n",
    "    \n",
    "    root.right.left=node(6)\n",
    "    root.right.right=node(8)\n",
    "    \n",
    "    root.left.right.left=node(9)\n",
    "    root.left.right.right=node(10)\n",
    "    \n",
    "    root.right.right.right=node(11)\n",
    "    \n",
    "    root.left.right.right.left=node(12)\n",
    "    root.left.right.right.right=node(13)\n",
    "    \n",
    "    \n",
    "    levelorder(root)\n",
    "    "
   ]
  },
  {
   "cell_type": "markdown",
   "metadata": {},
   "source": [
    "tree on height order\n"
   ]
  },
  {
   "cell_type": "code",
   "execution_count": 24,
   "metadata": {},
   "outputs": [
    {
     "name": "stdout",
     "output_type": "stream",
     "text": [
      "5\n"
     ]
    }
   ],
   "source": [
    "class node:\n",
    "    def __init__(self,data):\n",
    "        self.value=data\n",
    "        self.left=None\n",
    "        self.right=None\n",
    "        \n",
    "def height_order(root):\n",
    "    if root==None:\n",
    "        return 0\n",
    "    else:\n",
    "        LH=height_order(root.left)\n",
    "        RH=height_order(root.right)\n",
    "        return max(LH,RH)+1\n",
    "        \n",
    "if __name__==\"__main__\":\n",
    "    root=node(1)\n",
    "    \n",
    "    root.left=node(2)\n",
    "    root.right=node(3)\n",
    "    \n",
    "    root.left.left=node(4)\n",
    "    root.left.right=node(5)\n",
    "    \n",
    "    root.right.left=node(6)\n",
    "    root.right.right=node(8)\n",
    "    \n",
    "    root.left.right.left=node(9)\n",
    "    root.left.right.right=node(10)\n",
    "    \n",
    "    root.right.right.right=node(11)\n",
    "    \n",
    "    root.left.right.right.left=node(12)\n",
    "    root.left.right.right.right=node(13)\n",
    "    \n",
    "    height=height_order(root)\n",
    "    print(height)"
   ]
  },
  {
   "cell_type": "markdown",
   "metadata": {},
   "source": [
    "Tree  leaf printing"
   ]
  },
  {
   "cell_type": "code",
   "execution_count": 33,
   "metadata": {},
   "outputs": [
    {
     "name": "stdout",
     "output_type": "stream",
     "text": [
      "4 9 12 13 6 11 "
     ]
    }
   ],
   "source": [
    "class treenode:\n",
    "    def __init__(self,data):\n",
    "        self.value=data\n",
    "        self.left=None\n",
    "        self.right=None\n",
    "def leaf(node):\n",
    "    if node.left==None and node.right==None:\n",
    "        print(node.value,end=\" \")\n",
    "        return\n",
    "    if node.left!=None:\n",
    "        leaf(node.left)\n",
    "    if node.right!=None:\n",
    "        leaf(node.right)\n",
    "if __name__==\"__main__\":\n",
    "    node=treenode(1)\n",
    "    \n",
    "    node.left=treenode(2)\n",
    "    node.right=treenode(3)\n",
    "    \n",
    "    node.left.left=treenode(4)\n",
    "    node.left.right=treenode(5)\n",
    "    \n",
    "    node.right.left=treenode(6)\n",
    "    node.right.right=treenode(7)\n",
    "    \n",
    "    node.left.right.left=treenode(9)\n",
    "    node.left.right.right=treenode(10)\n",
    "    \n",
    "    node.right.right.right=treenode(11)\n",
    "    \n",
    "    node.left.right.right.left=treenode(12)\n",
    "    node.left.right.right.right=treenode(13)\n",
    "    \n",
    "    \n",
    "    leaf(node)"
   ]
  },
  {
   "cell_type": "markdown",
   "metadata": {},
   "source": [
    "Top view in Tree"
   ]
  },
  {
   "cell_type": "code",
   "execution_count": 5,
   "metadata": {},
   "outputs": [
    {
     "name": "stdout",
     "output_type": "stream",
     "text": [
      "4\n",
      "2\n",
      "1\n",
      "3\n",
      "7\n",
      "10\n",
      "{0: 1, -1: 2, 1: 3, -2: 4, 2: 7, 3: 10}\n"
     ]
    }
   ],
   "source": [
    "class node:\n",
    "    def __init__(self,data):\n",
    "        self.value=data\n",
    "        self.left=None\n",
    "        self.right=None\n",
    "class node_data:\n",
    "    def __init__(self,Node,Hkey):\n",
    "        self.node=Node\n",
    "        self.hkey=Hkey\n",
    "def topview(root):\n",
    "    temp=node_data(root,0)\n",
    "    Q=[temp]\n",
    "    Q.append(None)\n",
    "    key_dict={}\n",
    "    \n",
    "    while len(Q)!=0:\n",
    "        curr=Q.pop(0)\n",
    "        \n",
    "        if curr ==None:\n",
    "            if len(Q)==0:\n",
    "                break\n",
    "            else:\n",
    "                \n",
    "                Q.append(None)\n",
    "        else:\n",
    "            if curr.hkey not in key_dict.keys():\n",
    "                key_dict[curr.hkey]=curr.node.value\n",
    "            \n",
    "            if curr.node.left!=None:\n",
    "                temp=node_data(curr.node.left,curr.hkey-1)\n",
    "                Q.append(temp) \n",
    "            if curr.node.right!=None:\n",
    "                temp=node_data(curr.node.right,curr.hkey+1)\n",
    "                Q.append(temp) \n",
    "    for i in sorted(key_dict):\n",
    "        print(key_dict[i])\n",
    "    print(key_dict)\n",
    "\n",
    "\n",
    "if __name__==\"__main__\":\n",
    "    root=node(1)\n",
    "    \n",
    "    root.left=node(2)\n",
    "    root.right=node(3)\n",
    "    \n",
    "    root.left.left=node(4)\n",
    "    root.left.right=node(5)\n",
    "    \n",
    "    root.right.left=node(6)\n",
    "    root.right.right=node(7)\n",
    "    \n",
    "    root.left.right.left=node(8)\n",
    "    root.left.right.right=node(9)\n",
    "    \n",
    "    root.right.right.right=node(10)\n",
    "    \n",
    "    root.left.right.left.left=node(11)\n",
    "    root.left.right.left.right=node(12)\n",
    "    topview(root)"
   ]
  },
  {
   "cell_type": "markdown",
   "metadata": {},
   "source": [
    "Bottom view in Tree\n"
   ]
  },
  {
   "cell_type": "code",
   "execution_count": 1,
   "metadata": {},
   "outputs": [
    {
     "name": "stdout",
     "output_type": "stream",
     "text": [
      "11\n",
      "8\n",
      "12\n",
      "9\n",
      "7\n",
      "10\n",
      "{0: 12, -1: 8, 1: 9, -2: 11, 2: 7, 3: 10}\n"
     ]
    }
   ],
   "source": [
    "class node:\n",
    "    def __init__(self,data):\n",
    "        self.value=data\n",
    "        self.left=None\n",
    "        self.right=None\n",
    "class node_data:\n",
    "    def __init__(self,Node,Hkey):\n",
    "        self.node=Node\n",
    "        self.hkey=Hkey\n",
    "def Bottomview(root):\n",
    "    temp=node_data(root,0)\n",
    "    Q=[temp]\n",
    "    Q.append(None)\n",
    "    key_dict={}\n",
    "    \n",
    "    while len(Q)!=0:\n",
    "        curr=Q.pop(0)\n",
    "        \n",
    "        if curr ==None:\n",
    "            if len(Q)==0:\n",
    "                break\n",
    "            else:\n",
    "                \n",
    "                Q.append(None)\n",
    "        else:\n",
    "            \n",
    "            key_dict[curr.hkey]=curr.node.value\n",
    "            \n",
    "            if curr.node.left!=None:\n",
    "                temp=node_data(curr.node.left,curr.hkey-1)\n",
    "                Q.append(temp) \n",
    "            if curr.node.right!=None:\n",
    "                temp=node_data(curr.node.right,curr.hkey+1)\n",
    "                Q.append(temp) \n",
    "    for i in sorted(key_dict):\n",
    "        print(key_dict[i])\n",
    "    print(key_dict)\n",
    "\n",
    "\n",
    "if __name__==\"__main__\":\n",
    "    root=node(1)\n",
    "    \n",
    "    root.left=node(2)\n",
    "    root.right=node(3)\n",
    "    \n",
    "    root.left.left=node(4)\n",
    "    root.left.right=node(5)\n",
    "    \n",
    "    root.right.left=node(6)\n",
    "    root.right.right=node(7)\n",
    "    \n",
    "    root.left.right.left=node(8)\n",
    "    root.left.right.right=node(9)\n",
    "    \n",
    "    root.right.right.right=node(10)\n",
    "    \n",
    "    root.left.right.left.left=node(11)\n",
    "    root.left.right.left.right=node(12)\n",
    "    Bottomview(root)"
   ]
  },
  {
   "cell_type": "markdown",
   "metadata": {},
   "source": [
    "Left view in Tree\n"
   ]
  },
  {
   "cell_type": "code",
   "execution_count": 6,
   "metadata": {},
   "outputs": [
    {
     "name": "stdout",
     "output_type": "stream",
     "text": [
      "1\n",
      "2\n",
      "4\n",
      "9\n",
      "12\n"
     ]
    }
   ],
   "source": [
    "class node:\n",
    "    def __init__(self,data):\n",
    "        self.value=data\n",
    "        self.left=None\n",
    "        self.right=None\n",
    "\n",
    "def leftorder(root):\n",
    "   \n",
    "    Q=[root]\n",
    "    Q.append(None) \n",
    "    print(root.value)\n",
    "    while len(Q)>0:\n",
    "        curr=Q.pop(0)\n",
    "        \n",
    "        if curr ==None:\n",
    "            if len(Q)==0:\n",
    "                break\n",
    "            else:\n",
    "                print(Q[0].value)\n",
    "                Q.append(None)\n",
    "        else:\n",
    "            # print(curr.value,end=\" \")\n",
    "            if curr.left!=None:\n",
    "                Q.append(curr.left) \n",
    "            if curr.right!=None:\n",
    "                Q.append(curr.right)     \n",
    "        \n",
    "if __name__==\"__main__\":\n",
    "    root=node(1)\n",
    "    \n",
    "    root.left=node(2)\n",
    "    root.right=node(3)\n",
    "    \n",
    "    root.left.left=node(4)\n",
    "    root.left.right=node(5)\n",
    "    \n",
    "    root.right.left=node(6)\n",
    "    root.right.right=node(8)\n",
    "    \n",
    "    root.left.right.left=node(9)\n",
    "    root.left.right.right=node(10)\n",
    "    \n",
    "    root.right.right.right=node(11)\n",
    "    \n",
    "    root.left.right.right.left=node(12)\n",
    "    root.left.right.right.right=node(13)\n",
    "    \n",
    "    \n",
    "    leftorder(root)\n",
    "    "
   ]
  },
  {
   "cell_type": "markdown",
   "metadata": {},
   "source": [
    "Right view in Tree"
   ]
  },
  {
   "cell_type": "code",
   "execution_count": 11,
   "metadata": {},
   "outputs": [
    {
     "ename": "AttributeError",
     "evalue": "'node' object has no attribute 'valve'",
     "output_type": "error",
     "traceback": [
      "\u001b[1;31m---------------------------------------------------------------------------\u001b[0m",
      "\u001b[1;31mAttributeError\u001b[0m                            Traceback (most recent call last)",
      "Cell \u001b[1;32mIn[11], line 45\u001b[0m\n\u001b[0;32m     41\u001b[0m root\u001b[38;5;241m.\u001b[39mleft\u001b[38;5;241m.\u001b[39mright\u001b[38;5;241m.\u001b[39mright\u001b[38;5;241m.\u001b[39mleft\u001b[38;5;241m=\u001b[39mnode(\u001b[38;5;241m12\u001b[39m)\n\u001b[0;32m     42\u001b[0m root\u001b[38;5;241m.\u001b[39mleft\u001b[38;5;241m.\u001b[39mright\u001b[38;5;241m.\u001b[39mright\u001b[38;5;241m.\u001b[39mright\u001b[38;5;241m=\u001b[39mnode(\u001b[38;5;241m13\u001b[39m)\n\u001b[1;32m---> 45\u001b[0m \u001b[43mrightorder\u001b[49m\u001b[43m(\u001b[49m\u001b[43mroot\u001b[49m\u001b[43m)\u001b[49m\n",
      "Cell \u001b[1;32mIn[11], line 17\u001b[0m, in \u001b[0;36mrightorder\u001b[1;34m(root)\u001b[0m\n\u001b[0;32m     15\u001b[0m curr\u001b[38;5;241m=\u001b[39mQ\u001b[38;5;241m.\u001b[39mpop(\u001b[38;5;241m0\u001b[39m)\n\u001b[0;32m     16\u001b[0m \u001b[38;5;28;01mif\u001b[39;00m i\u001b[38;5;241m==\u001b[39mlevel_length\u001b[38;5;241m-\u001b[39m\u001b[38;5;241m1\u001b[39m:\n\u001b[1;32m---> 17\u001b[0m     \u001b[38;5;28mprint\u001b[39m(\u001b[43mcurr\u001b[49m\u001b[38;5;241;43m.\u001b[39;49m\u001b[43mvalve\u001b[49m,end\u001b[38;5;241m=\u001b[39m\u001b[38;5;124m\"\u001b[39m\u001b[38;5;124m \u001b[39m\u001b[38;5;124m\"\u001b[39m)\n\u001b[0;32m     19\u001b[0m \u001b[38;5;28;01mif\u001b[39;00m curr\u001b[38;5;241m.\u001b[39mleft:\n\u001b[0;32m     20\u001b[0m     Q\u001b[38;5;241m.\u001b[39mappend(curr\u001b[38;5;241m.\u001b[39mleft) \n",
      "\u001b[1;31mAttributeError\u001b[0m: 'node' object has no attribute 'valve'"
     ]
    }
   ],
   "source": [
    "class node:\n",
    "    def __init__(self,data):\n",
    "        self.value=data\n",
    "        self.left=None\n",
    "        self.right=None\n",
    "\n",
    "def rightorder(root):\n",
    "   \n",
    "    if root is None:\n",
    "        return\n",
    "    Q=[root]\n",
    "    while Q:\n",
    "        level_length=len(Q)\n",
    "        for i in range(level_length):\n",
    "            curr=Q.pop(0)\n",
    "            if i==level_length-1:\n",
    "                print(curr.valve,end=\" \")\n",
    "                \n",
    "            if curr.left:\n",
    "                Q.append(curr.left) \n",
    "            if curr.right:\n",
    "                Q.append(curr.right)     \n",
    "        \n",
    "if __name__==\"__main__\":\n",
    "    root=node(1)\n",
    "    \n",
    "    root.left=node(2)\n",
    "    root.right=node(3)\n",
    "    \n",
    "    root.left.left=node(4)\n",
    "    root.left.right=node(5)\n",
    "    \n",
    "    root.right.left=node(6)\n",
    "    root.right.right=node(8)\n",
    "    \n",
    "    root.left.right.left=node(9)\n",
    "    root.left.right.right=node(10)\n",
    "    \n",
    "    root.right.right.right=node(11)\n",
    "    \n",
    "    root.left.right.right.left=node(12)\n",
    "    root.left.right.right.right=node(13)\n",
    "    \n",
    "    \n",
    "    rightorder(root)\n",
    "    "
   ]
  },
  {
   "cell_type": "code",
   "execution_count": null,
   "metadata": {},
   "outputs": [],
   "source": []
  }
 ],
 "metadata": {
  "kernelspec": {
   "display_name": "Python 3",
   "language": "python",
   "name": "python3"
  },
  "language_info": {
   "codemirror_mode": {
    "name": "ipython",
    "version": 3
   },
   "file_extension": ".py",
   "mimetype": "text/x-python",
   "name": "python",
   "nbconvert_exporter": "python",
   "pygments_lexer": "ipython3",
   "version": "3.11.9"
  }
 },
 "nbformat": 4,
 "nbformat_minor": 2
}
