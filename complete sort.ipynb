{
 "cells": [
  {
   "cell_type": "markdown",
   "metadata": {},
   "source": [
    "Bubble sort "
   ]
  },
  {
   "cell_type": "code",
   "execution_count": 16,
   "metadata": {},
   "outputs": [
    {
     "name": "stdout",
     "output_type": "stream",
     "text": [
      "[1, 2, 3, 4, 5, 6]\n"
     ]
    }
   ],
   "source": [
    "def bubble(list):\n",
    "    n=len(list)\n",
    "    for i in range(n):\n",
    "        swap=False\n",
    "        for j in range(0,n-i-1):\n",
    "            if list[j]>list[j+1]:\n",
    "               list[j],list[j+1]=list[j+1],list[j]\n",
    "               swap=True\n",
    "        if not swap:\n",
    "            break\n",
    "list=[4,5,1,2,6,3]\n",
    "bubble(list)\n",
    "print(list)\n",
    "\n",
    "                 "
   ]
  },
  {
   "cell_type": "markdown",
   "metadata": {},
   "source": [
    "selection sort"
   ]
  },
  {
   "cell_type": "code",
   "execution_count": 17,
   "metadata": {},
   "outputs": [
    {
     "name": "stdout",
     "output_type": "stream",
     "text": [
      "[17, 24, 33, 41, 42]\n"
     ]
    }
   ],
   "source": [
    "\n",
    "def selection(list):\n",
    "    \n",
    "    n=len(list)\n",
    "    for i in range(n-1):\n",
    "        pos=i\n",
    "        for j in range(i+1,n):\n",
    "            if list[j]<list[pos]:\n",
    "                pos=j\n",
    "                list[i],list[pos]=list[pos],list[i]\n",
    "list=[24,41,33,42,17]\n",
    "selection(list)\n",
    "print(list)"
   ]
  },
  {
   "cell_type": "markdown",
   "metadata": {},
   "source": [
    "insertion sort"
   ]
  },
  {
   "cell_type": "code",
   "execution_count": 18,
   "metadata": {},
   "outputs": [
    {
     "name": "stdout",
     "output_type": "stream",
     "text": [
      "[10, 20, 30, 40]\n"
     ]
    }
   ],
   "source": [
    "def insertion(list):\n",
    "    n=len(list)\n",
    "    for i in range(1,n):\n",
    "        key=list[i]\n",
    "        j=i-1\n",
    "        while j>=0 and key<list[j]:\n",
    "            list[j+1]=list[j]\n",
    "            j-=1\n",
    "        list[j+1]=key\n",
    "list=[40,30,20,10]\n",
    "insertion(list)\n",
    "print(list)\n",
    "        \n"
   ]
  },
  {
   "cell_type": "markdown",
   "metadata": {},
   "source": [
    "Quick sort"
   ]
  },
  {
   "cell_type": "code",
   "execution_count": 19,
   "metadata": {},
   "outputs": [
    {
     "name": "stdout",
     "output_type": "stream",
     "text": [
      "[1, 2, 3, 5, 6, 8, 9]\n"
     ]
    }
   ],
   "source": [
    "def partition(list,low,high):\n",
    "    p=list[low]\n",
    "    i=low+1\n",
    "    j=high\n",
    "    while True:\n",
    "        while i<=j and list[i]<=p:\n",
    "            i+=1\n",
    "        while i<=j and list[j]>=p:\n",
    "            j-=1\n",
    "        if i<=j:\n",
    "            list[i],list[j]=list[j],list[i]\n",
    "        else:\n",
    "            break\n",
    "    list[low],list[j]=list[j],list[low]\n",
    "    return j\n",
    "def quick_sort(list,low,high):\n",
    "    if low<high:\n",
    "        pivot=partition(list,low,high)\n",
    "        quick_sort(list,low,pivot-1)\n",
    "        quick_sort(list,pivot+1,high)\n",
    "\n",
    "list=[5,8,1,2,6,3,9]\n",
    "quick_sort(list,0,len(list)-1)\n",
    "print(list)"
   ]
  },
  {
   "cell_type": "markdown",
   "metadata": {},
   "source": [
    "merge sort "
   ]
  },
  {
   "cell_type": "code",
   "execution_count": 20,
   "metadata": {},
   "outputs": [
    {
     "name": "stdout",
     "output_type": "stream",
     "text": [
      "[10, 20, 30, 40, 60, 60, 80, 90]\n"
     ]
    }
   ],
   "source": [
    "def merge_sort(list):\n",
    "    if len(list)<=1:\n",
    "        return list\n",
    "    mid=len(list)//2\n",
    "    l_half=list[:mid]\n",
    "    r_half=list[mid:]\n",
    "    l_half=merge_sort(l_half)\n",
    "    r_half=merge_sort(r_half)\n",
    "    return merge(l_half,r_half)\n",
    "def merge(left,right):\n",
    "    new=[]\n",
    "    i,j=0,0\n",
    "    while i<len(left) and j<len(right):\n",
    "        if left[i]<right[j]:\n",
    "            new.append(left[i])\n",
    "            i+=1\n",
    "        else:\n",
    "            new.append(right[j])\n",
    "            j+=1\n",
    "    new.extend(left[i:])\n",
    "    new.extend(right[j:])\n",
    "    return new\n",
    "list=[60,20,40,10,90,30,80,60]\n",
    "sorted_list=merge_sort(list)\n",
    "print(sorted_list)"
   ]
  }
 ],
 "metadata": {
  "kernelspec": {
   "display_name": "Python 3",
   "language": "python",
   "name": "python3"
  },
  "language_info": {
   "codemirror_mode": {
    "name": "ipython",
    "version": 3
   },
   "file_extension": ".py",
   "mimetype": "text/x-python",
   "name": "python",
   "nbconvert_exporter": "python",
   "pygments_lexer": "ipython3",
   "version": "3.11.9"
  }
 },
 "nbformat": 4,
 "nbformat_minor": 2
}
