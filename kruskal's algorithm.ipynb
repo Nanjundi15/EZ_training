{
 "cells": [
  {
   "cell_type": "markdown",
   "metadata": {},
   "source": [
    "Kruskal's algorithm"
   ]
  },
  {
   "cell_type": "code",
   "execution_count": 1,
   "metadata": {},
   "outputs": [
    {
     "name": "stdout",
     "output_type": "stream",
     "text": [
      "inf\n",
      "2 4 1\n",
      "(2, 4, 1)\n",
      "(1, 8, 2)\n",
      "(7, 10, 2)\n",
      "(8, 1, 2)\n",
      "(10, 7, 2)\n",
      "(2, 3, 4)\n",
      "(2, 6, 5)\n",
      "(4, 5, 6)\n",
      "(5, 9, 8)\n"
     ]
    }
   ],
   "source": [
    "g=[\n",
    "    [0,  7, -1, -1, -1, -1,- 1, 2, -1, -1],#1\n",
    "    [7,  0,  4,  1, -1,  5, -1,-1, -1, -1],#2\n",
    "    [-1, 4,  0, -1, -1, -1, -1, 8, -1, -1],#3\n",
    "    [-1, 1, -1,  0,  6,  8,  3, 3, -1, -1],#4\n",
    "    [-1, -1,-1,  6,  0, -1, -1, 6,  8, -1],#5\n",
    "    [-1, 5, -1,  8, -1,  0, -1, -1, -1,-1],#6\n",
    "    [-1,-1, -1,  3, -1, -1,  0, -1,  9, 2],#7\n",
    "    [2, -1,  8,  3,  6, -1, -1,  0, -1,-1],#8\n",
    "    [-1,-1, -1, -1,  8, -1,  9, -1,  0,-1],#9\n",
    "    [-1,  -1, -1, -1, -1, -1,  2, -1, -1, 0]#10\n",
    "]\n",
    "visited=[False]*len(g)\n",
    "# print(visited)\n",
    "min=float('inf')\n",
    "x=y=-1\n",
    "print(min)\n",
    "for i in range(len(g)):\n",
    "    for j in range(len(g[i])):\n",
    "        if g[i][j]==0 or g[i][j]==-1:\n",
    "            continue\n",
    "        elif min>g[i][j]:\n",
    "            min=g[i][j]\n",
    "            x=i\n",
    "            y=j\n",
    "print(x+1,y+1,min)\n",
    "visited[x]=True\n",
    "visited[y]=True\n",
    "mst=[]\n",
    "mst.append(tuple((x+1,y+1,min)))\n",
    "\n",
    "while False in visited:\n",
    "    min=float('inf')\n",
    "    for i in range(len(visited)):\n",
    "        \n",
    "        \n",
    "            for j in range(len(g[i])):\n",
    "                if g[i][j]==0 or g[i][j]==-1 or visited[j]==True:\n",
    "                       continue\n",
    "                elif min>g[i][j]:\n",
    "                    min=g[i][j]\n",
    "                    x=i\n",
    "                    y=j\n",
    "    visited[y]=True\n",
    "    mst.append(tuple((x+1,y+1,min)))\n",
    "for i in mst:                   \n",
    "    print(i)            \n",
    "\n",
    "            \n",
    "    "
   ]
  }
 ],
 "metadata": {
  "kernelspec": {
   "display_name": "Python 3",
   "language": "python",
   "name": "python3"
  },
  "language_info": {
   "codemirror_mode": {
    "name": "ipython",
    "version": 3
   },
   "file_extension": ".py",
   "mimetype": "text/x-python",
   "name": "python",
   "nbconvert_exporter": "python",
   "pygments_lexer": "ipython3",
   "version": "3.11.9"
  }
 },
 "nbformat": 4,
 "nbformat_minor": 2
}
