{
 "cells": [
  {
   "cell_type": "code",
   "execution_count": 1,
   "metadata": {},
   "outputs": [
    {
     "name": "stdout",
     "output_type": "stream",
     "text": [
      "B-01 == Bat == Good == Av\n",
      "V-01 vollyball better Av\n",
      "B-02 Bassketball Good u\n",
      "j-01 Javaline Good Av\n"
     ]
    }
   ],
   "source": [
    "class sports:\n",
    "    def __init__(self,IDno,name,qn,sta):\n",
    "        self.IDno=IDno\n",
    "        self.name=name\n",
    "        self.quality=qn\n",
    "        self.status=sta\n",
    "str1=sports(\"B-01 ==\",\"Bat ==\",\"Good ==\",\"Av\")       \n",
    "str2=sports(\"V-01\",\"vollyball\",\"better\",\"Av\") \n",
    "str3=sports(\"B-02\",\"Bassketball\",\"Good\",\"u\") \n",
    "str4=sports(\"j-01\",\"Javaline\",\"Good\",\"Av\") \n",
    "\n",
    "print(str1.IDno,str1.name,str1.quality,str1.status)\n",
    "print(str2.IDno,str2.name,str2.quality,str2.status)\n",
    "print(str3.IDno,str3.name,str3.quality,str3.status)\n",
    "print(str4.IDno,str4.name,str4.quality,str4.status)"
   ]
  },
  {
   "cell_type": "code",
   "execution_count": 2,
   "metadata": {},
   "outputs": [
    {
     "name": "stdout",
     "output_type": "stream",
     "text": [
      "german is a mammal\n",
      "tommy is a mammal\n",
      "my name is agerman\n",
      "My name is atommy\n"
     ]
    }
   ],
   "source": [
    "class dog:\n",
    "    attribute=\"mammal\"\n",
    "    def __init__(self,name):\n",
    "        self.name=name\n",
    "german=dog(\"german\")\n",
    "tommy=dog(\"tommy\")\n",
    "\n",
    "print(\"german is a {}\".format(german.__class__.attribute))\n",
    "print(\"tommy is a {}\".format(tommy.__class__.attribute))\n",
    "print(\"my name is a {}\".format(german.name))\n",
    "print(\"My name is a {}\".format(tommy.name))"
   ]
  },
  {
   "cell_type": "code",
   "execution_count": 3,
   "metadata": {},
   "outputs": [
    {
     "name": "stdout",
     "output_type": "stream",
     "text": [
      "my name is rotweiler\n",
      "my name is Tommy\n"
     ]
    }
   ],
   "source": [
    "class dog:\n",
    "    attr1=\"Mammal\"\n",
    "    def __init__(self,name):\n",
    "        self.name=name\n",
    "    def speak(self):\n",
    "        print(\"my name is {}\".format(self.name))\n",
    "        \n",
    "#driver code\n",
    "#object instantaion\n",
    "rotweiler=dog(\"rotweiler\")\n",
    "tommy=dog(\"Tommy\")\n",
    "\n",
    "rotweiler.speak()\n",
    "tommy.speak()"
   ]
  }
 ],
 "metadata": {
  "kernelspec": {
   "display_name": "Python 3",
   "language": "python",
   "name": "python3"
  },
  "language_info": {
   "codemirror_mode": {
    "name": "ipython",
    "version": 3
   },
   "file_extension": ".py",
   "mimetype": "text/x-python",
   "name": "python",
   "nbconvert_exporter": "python",
   "pygments_lexer": "ipython3",
   "version": "3.11.9"
  }
 },
 "nbformat": 4,
 "nbformat_minor": 2
}
