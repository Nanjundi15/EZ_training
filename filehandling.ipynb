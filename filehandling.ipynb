{
 "cells": [
  {
   "cell_type": "code",
   "execution_count": 40,
   "metadata": {},
   "outputs": [
    {
     "name": "stdout",
     "output_type": "stream",
     "text": [
      "Name:  nanjundi\n",
      "USN:  112\n",
      "Marks: \n",
      "Marks of subject 1 = 89\n",
      "Marks of subject 2 = 99\n",
      "Marks of subject 3 = 99\n",
      "Marks of subject 4 = 99\n",
      "Marks of subject 5 = 99\n",
      "Percentage:  97.0\n",
      "Grade:  A\n"
     ]
    }
   ],
   "source": [
    "#Create A student class that holds the details of students like name usn and marks in 5 subject percentage and grade\n",
    "\n",
    "\n",
    "class Std:\n",
    "    def __init__(self):\n",
    "        self.USN=None\n",
    "        self.Name=None\n",
    "        self.Marks=[]\n",
    "        self.Percentage=None\n",
    "        self.grade=None\n",
    "    def Std_input(self):\n",
    "        self.Name=input(\"Name: \")\n",
    "        self.USN=input(\"USN: \")\n",
    "        for i in range(0,5):\n",
    "            Marks=int(input(f\"Marks for {i+1}: \"))\n",
    "            self.Marks.append(Marks)\n",
    "    def calc_percentage(self):\n",
    "        sum=0\n",
    "        for i in self.Marks:\n",
    "            sum+=int(i)\n",
    "        self.Percentage=(sum/500)*100\n",
    "    def calc_grade(self):\n",
    "        per=self.Percentage\n",
    "        if per>=90:\n",
    "            self.grade=\"A\"\n",
    "        elif per>=80:\n",
    "            self.grade=\"B\"\n",
    "        elif per>=70:\n",
    "            self.grade=\"C\"\n",
    "        elif per>=60:\n",
    "            self.grade=\"D\"\n",
    "        else:\n",
    "            self.grade=\"Invalid\"\n",
    "    def print_details(self):\n",
    "        print(\"Name: \",self.Name)\n",
    "        print(\"USN: \",self.USN)\n",
    "        print(\"Marks: \")\n",
    "        for i in range(0,5):\n",
    "            print(f\"Marks of subject {i+1} = {self.Marks[i]}\")\n",
    "        print(\"Percentage: \",self.Percentage)\n",
    "        print(\"Grade: \",self.grade)\n",
    "    def convert_list(self):\n",
    "        st_list =[self.USN,self.Name,self.Marks,self.Percentage,self.grade]\n",
    "        return st_list\n",
    "    def covert_ob(self,stu_list):\n",
    "        self.USN=stu_list[0]\n",
    "        self.Name=stu_list[1]\n",
    "        self.Marks=stu_list[2]\n",
    "        self.Percentage=stu_list[3]\n",
    "        self.grade=stu_list[4]\n",
    "        \n",
    "str1=Std()\n",
    "str1.Std_input()\n",
    "str1.calc_percentage()\n",
    "str1.calc_grade()\n",
    "str1.print_details()\n",
    "\n",
    "\n",
    "  \n",
    "       \n",
    "\n",
    "        "
   ]
  },
  {
   "cell_type": "code",
   "execution_count": 42,
   "metadata": {},
   "outputs": [],
   "source": [
    "#file handling with previous code as write\n",
    "with open(\"student.txt\",'wb') as file:\n",
    "    L=str1.convert_list()\n",
    "    data=f\"{L[0]}|{L[1]}|{L[2][0]},{L[2][1]},{L[2][2]},{L[2][3]},{L[2][4]}|{L[3]}|{L[4]}\\n\"\n",
    "    file.write(data.encode())\n",
    "    file.close()"
   ]
  },
  {
   "cell_type": "code",
   "execution_count": 43,
   "metadata": {},
   "outputs": [
    {
     "name": "stdout",
     "output_type": "stream",
     "text": [
      "112|nanjundi|89,99,99,99,99|97.0|A\n",
      "\n",
      "['112', 'nanjundi', ['89', '99', '99', '99', '99'], '97.0', 'A\\n']\n",
      "Name:  nanjundi\n",
      "USN:  112\n",
      "Marks: \n",
      "Marks of subject 1 = 89\n",
      "Marks of subject 2 = 99\n",
      "Marks of subject 3 = 99\n",
      "Marks of subject 4 = 99\n",
      "Marks of subject 5 = 99\n",
      "Percentage:  97.0\n",
      "Grade:  A\n",
      "\n"
     ]
    }
   ],
   "source": [
    "#file handling with code by reading\n",
    "stu_list=[]\n",
    "\n",
    "with open(\"student.txt\",'rb') as file:\n",
    "    data = file.readline().decode('utf-8')\n",
    "    print(data)\n",
    "    for i in data.split(\"|\"):\n",
    "        stu_list.append(i)\n",
    "    mrks=stu_list[2]\n",
    "    mrks_list=[]\n",
    "    for i in mrks.split(','):\n",
    "        mrks_list.append(i)\n",
    "    stu_list[2]=mrks_list\n",
    "print(stu_list)\n",
    "st2=Std()\n",
    "st2.covert_ob(stu_list)\n",
    "st2.print_details()"
   ]
  }
 ],
 "metadata": {
  "kernelspec": {
   "display_name": "Python 3",
   "language": "python",
   "name": "python3"
  },
  "language_info": {
   "codemirror_mode": {
    "name": "ipython",
    "version": 3
   },
   "file_extension": ".py",
   "mimetype": "text/x-python",
   "name": "python",
   "nbconvert_exporter": "python",
   "pygments_lexer": "ipython3",
   "version": "3.11.9"
  }
 },
 "nbformat": 4,
 "nbformat_minor": 2
}
